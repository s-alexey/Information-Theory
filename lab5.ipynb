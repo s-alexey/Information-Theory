{
 "cells": [
  {
   "cell_type": "code",
   "execution_count": 1,
   "metadata": {
    "collapsed": false
   },
   "outputs": [],
   "source": [
    "from utils import transform\n",
    "\n",
    "import itertools\n",
    "from math import log2, ceil\n",
    "\n",
    "def bin(x, n=0):\n",
    "#     res = '{:0' + str(n) + 'b}'\n",
    "    return \"{:b}\".format(x).zfill(n)\n",
    "#     return res.format(x)\n",
    "\n",
    "def int2elias(x):\n",
    "    L = len(bin(x))\n",
    "    M = len(bin(L))\n",
    "    return '0' * (M-1) + bin(L) + bin(x)[1:]\n",
    "\n",
    "def elias2int(c):\n",
    "    M = c.index('1')\n",
    "    L = int(c[M:2*M+1] or '0', 2)\n",
    "    x = c[2*M+1:2*M+L]\n",
    "    assert 2*M+L <= len(c)\n",
    "    return int(x or '0', 2) + 2 ** (L-1)\n",
    "\n",
    "def elias2list(c):\n",
    "    while c:\n",
    "        M = c.index('1')\n",
    "        L = int(c[M:2*M+1] or '0', 2)\n",
    "        x = c[2*M+1:2*M+L]\n",
    "        assert 2*M+L <= len(c)\n",
    "        c = c[2*M+L:]\n",
    "        yield int(x or '0', 2) + 2 ** (L-1)"
   ]
  },
  {
   "cell_type": "code",
   "execution_count": 2,
   "metadata": {
    "collapsed": false
   },
   "outputs": [],
   "source": [
    "codes = [\n",
    "    (1, '1'),\n",
    "    (2, '0100'),\n",
    "    (3, '0101'),\n",
    "    (4, '01100'),\n",
    "    (5, '01101'),\n",
    "    (6, '01110'),\n",
    "    (7, '01111'),\n",
    "    (8, '00100000'),\n",
    "    (9, '00100001'),\n",
    "    (10, '00100010'),\n",
    "    (11, '00100011'),\n",
    "    (12, '00100100'),\n",
    "    (13, '00100101'),\n",
    "    (14, '00100110'),\n",
    "]\n",
    "for x, c in codes:\n",
    "    assert int2elias(x) == c\n",
    "    assert elias2int(c) == x, \"{} -> {}\".format(c, x)"
   ]
  },
  {
   "cell_type": "code",
   "execution_count": 3,
   "metadata": {
    "collapsed": false
   },
   "outputs": [],
   "source": [
    "for x in range(10, 1000000, 50):\n",
    "    assert x == elias2int(int2elias(x)), \"{} {}\".format(x, elias2int(int2elias(x)))"
   ]
  },
  {
   "cell_type": "code",
   "execution_count": 4,
   "metadata": {
    "collapsed": false
   },
   "outputs": [],
   "source": [
    "with open('gore.txt') as f:\n",
    "    doc = ''.join([transform(line) for line in f])"
   ]
  },
  {
   "cell_type": "code",
   "execution_count": 5,
   "metadata": {
    "collapsed": false
   },
   "outputs": [],
   "source": [
    "alphabet = set(doc)"
   ]
  },
  {
   "cell_type": "code",
   "execution_count": 6,
   "metadata": {
    "collapsed": true
   },
   "outputs": [],
   "source": [
    "def split(line, n):\n",
    "    return [line[i:i+n] for i in range(0, len(line), n)]"
   ]
  },
  {
   "cell_type": "code",
   "execution_count": 7,
   "metadata": {
    "collapsed": false
   },
   "outputs": [],
   "source": [
    "class RyabkoElias:\n",
    "    def __init__(self, k, alphabet):\n",
    "        self.k = k\n",
    "        self.alphabet = alphabet\n",
    "\n",
    "    @property\n",
    "    def table(self):\n",
    "        return [''.join(i) for i in itertools.product(alphabet, repeat=self.k)]\n",
    "    \n",
    "    def encode(self, seq):\n",
    "        if len(seq) % self.k:\n",
    "            seq += ' ' * (self.k - len(seq) % self.k)\n",
    "        table = self.table\n",
    "        result = ''\n",
    "        for chunk in split(seq, self.k):\n",
    "            index = table.index(chunk)\n",
    "            v = table.pop(index)\n",
    "            table.insert(0, v)\n",
    "            result += int2elias(index)\n",
    "            \n",
    "        return result\n",
    "    \n",
    "    def decode(self, seq):\n",
    "        table = self.table\n",
    "        result = ''\n",
    "        for i in elias2list(seq):\n",
    "            chunk = table.pop(i)\n",
    "            table.insert(0, chunk)\n",
    "            result += chunk\n",
    "        return result"
   ]
  },
  {
   "cell_type": "code",
   "execution_count": 8,
   "metadata": {
    "collapsed": false
   },
   "outputs": [
    {
     "name": "stdout",
     "output_type": "stream",
     "text": [
      "2\n",
      "3\n",
      "4\n"
     ]
    }
   ],
   "source": [
    "lengths = []\n",
    "for k in range(2, 5):\n",
    "    print(k)\n",
    "    re = RyabkoElias(k, alphabet)\n",
    "    e = re.encode(doc[:5000])\n",
    "    lengths.append(len(e))"
   ]
  },
  {
   "cell_type": "code",
   "execution_count": 9,
   "metadata": {
    "collapsed": false
   },
   "outputs": [
    {
     "data": {
      "text/plain": [
       "[28594, 28159, 30412]"
      ]
     },
     "execution_count": 9,
     "metadata": {},
     "output_type": "execute_result"
    }
   ],
   "source": [
    "lengths"
   ]
  },
  {
   "cell_type": "code",
   "execution_count": 10,
   "metadata": {
    "collapsed": false
   },
   "outputs": [],
   "source": [
    "re = RyabkoElias(3, alphabet)"
   ]
  },
  {
   "cell_type": "code",
   "execution_count": 11,
   "metadata": {
    "collapsed": false
   },
   "outputs": [
    {
     "data": {
      "text/plain": [
       "486903"
      ]
     },
     "execution_count": 11,
     "metadata": {},
     "output_type": "execute_result"
    }
   ],
   "source": [
    "len(re.encode(doc))"
   ]
  },
  {
   "cell_type": "markdown",
   "metadata": {},
   "source": [
    "[rossetacode](https://rosettacode.org/wiki/LZW_compression#Python)"
   ]
  },
  {
   "cell_type": "code",
   "execution_count": 12,
   "metadata": {
    "collapsed": false
   },
   "outputs": [],
   "source": [
    "from io import StringIO"
   ]
  },
  {
   "cell_type": "code",
   "execution_count": 13,
   "metadata": {
    "collapsed": true
   },
   "outputs": [],
   "source": [
    "class LZW:\n",
    "    def __init__(self, alphabet):\n",
    "        self.alphabet = alphabet\n",
    "        self.n = n = ceil(log2(len(alphabet))) \n",
    "        \n",
    "    def compress(self, uncompressed):\n",
    "        \"\"\"Compress a string to a list of output symbols.\"\"\"\n",
    "\n",
    "        # Build the dictionary.\n",
    "        dictionary = {c: bin(i, self.n) for i, c in enumerate(self.alphabet)}\n",
    "        dict_size = len(dictionary)\n",
    "\n",
    "        w = \"\"\n",
    "        result = []\n",
    "        for c in uncompressed:\n",
    "            wc = w + c\n",
    "            if wc in dictionary:\n",
    "                w = wc\n",
    "            else:\n",
    "                result.append(dictionary[w])\n",
    "                # Add wc to the dictionary.\n",
    "                dictionary[wc] = bin(dict_size, self.n)\n",
    "                dict_size += 1\n",
    "                w = c\n",
    "\n",
    "        # Output the code for w.\n",
    "        if w:\n",
    "            result.append(dictionary[w])\n",
    "        return result\n",
    "\n",
    "\n",
    "    def decompress(self, compressed):\n",
    "        \"\"\"Decompress a list of output ks to a string.\"\"\"\n",
    "        \n",
    "        # Build the dictionary.\n",
    "        dictionary = {bin(i, self.n): c for i, c in enumerate(self.alphabet)}\n",
    "        dict_size = len(dictionary)\n",
    "\n",
    "        result = StringIO()\n",
    "        w = dictionary[compressed[0]]\n",
    "        result.write(w)\n",
    "        for k in compressed[1:]:\n",
    "            if k in dictionary:\n",
    "                entry = dictionary[k]\n",
    "            elif int(k, 2) == dict_size:\n",
    "                entry = w + w[0]\n",
    "            else:\n",
    "                print(int(k, 2), dict_size)\n",
    "                print(dictionary)\n",
    "                raise ValueError('Bad compressed k: %s' % k)\n",
    "            result.write(entry)\n",
    "\n",
    "            # Add w+entry[0] to the dictionary.\n",
    "            dictionary[bin(dict_size, self.n)] = w + entry[0]\n",
    "            dict_size += 1\n",
    "\n",
    "            w = entry\n",
    "            \n",
    "#         print(dictionary)\n",
    "        return result.getvalue()"
   ]
  },
  {
   "cell_type": "code",
   "execution_count": 14,
   "metadata": {
    "collapsed": true
   },
   "outputs": [],
   "source": [
    "lzw = LZW(alphabet)\n",
    "lzw2 = LZW('01')"
   ]
  },
  {
   "cell_type": "code",
   "execution_count": 15,
   "metadata": {
    "collapsed": false
   },
   "outputs": [
    {
     "data": {
      "text/plain": [
       "True"
      ]
     },
     "execution_count": 15,
     "metadata": {},
     "output_type": "execute_result"
    }
   ],
   "source": [
    "compressed = lzw.compress(doc) \n",
    "doc == lzw.decompress(compressed)"
   ]
  },
  {
   "cell_type": "code",
   "execution_count": 16,
   "metadata": {
    "collapsed": true
   },
   "outputs": [],
   "source": [
    "j = ''.join(compressed)\n",
    "l = len(j)"
   ]
  },
  {
   "cell_type": "code",
   "execution_count": 17,
   "metadata": {
    "collapsed": false
   },
   "outputs": [
    {
     "data": {
      "text/plain": [
       "(25811, 16627.367347255247)"
      ]
     },
     "execution_count": 17,
     "metadata": {},
     "output_type": "execute_result"
    }
   ],
   "source": [
    "len(compressed), l / log2(l)"
   ]
  },
  {
   "cell_type": "code",
   "execution_count": 18,
   "metadata": {
    "collapsed": false
   },
   "outputs": [
    {
     "data": {
      "text/plain": [
       "0.3558030550054144"
      ]
     },
     "execution_count": 18,
     "metadata": {},
     "output_type": "execute_result"
    }
   ],
   "source": [
    "1 - l / log2(l) / len(compressed)"
   ]
  }
 ],
 "metadata": {
  "kernelspec": {
   "display_name": "Python 3",
   "language": "python",
   "name": "python3"
  },
  "language_info": {
   "codemirror_mode": {
    "name": "ipython",
    "version": 3
   },
   "file_extension": ".py",
   "mimetype": "text/x-python",
   "name": "python",
   "nbconvert_exporter": "python",
   "pygments_lexer": "ipython3",
   "version": "3.5.1"
  }
 },
 "nbformat": 4,
 "nbformat_minor": 0
}
