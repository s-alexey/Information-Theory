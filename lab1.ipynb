{
 "cells": [
  {
   "cell_type": "code",
   "execution_count": 1,
   "metadata": {
    "collapsed": true
   },
   "outputs": [],
   "source": [
    "from heapq import heappush, heappop, heapify\n",
    "import collections\n",
    "import numpy as np\n",
    "\n",
    "def entropy(seq):\n",
    "    return sum(-p * np.log2(p) for p in seq)\n",
    "\n",
    "\n",
    "def count_freq(text):\n",
    "    symb2freq = collections.Counter(text)\n",
    "    norm = sum(symb2freq.values())\n",
    "    return {k: v/norm for k, v in symb2freq.items()}"
   ]
  },
  {
   "cell_type": "code",
   "execution_count": 2,
   "metadata": {
    "collapsed": true
   },
   "outputs": [],
   "source": [
    "class Huffman:\n",
    "    \"\"\"Huffman encode the given dict mapping symbols to weights\"\"\"\n",
    "    \n",
    "    def __init__(self, freq):\n",
    "        if isinstance(freq, (str, list)):\n",
    "            freq = count_freq(freq)\n",
    "        \n",
    "        heap = [[wt, [sym, '']] for sym, wt in freq.items()]\n",
    "        heapify(heap)\n",
    "\n",
    "        while len(heap) > 1:\n",
    "            lo, hi = heappop(heap), heappop(heap)\n",
    "\n",
    "            for pair in lo[1:]:\n",
    "                pair[1] = '0' + pair[1]\n",
    "            for pair in hi[1:]:\n",
    "                pair[1] = '1' + pair[1]\n",
    "\n",
    "            heappush(heap, [lo[0] + hi[0]] + lo[1:] + hi[1:])\n",
    "        \n",
    "        self.symbols = list(freq.keys())\n",
    "        self.freq = freq\n",
    "        self.codes = dict(heappop(heap)[1:])\n",
    "        \n",
    "    def encode(self, string):\n",
    "        return ''.join([self.codes[c] for c in string])\n",
    "    \n",
    "    def entropy(self):\n",
    "        return entropy(self.freq.values())\n",
    "    \n",
    "    def __str__(self):\n",
    "        res = \"Symbol\\tP\\tHuffman Code\\n\"\n",
    "        res += '\\n'.join([\n",
    "                \"'%s'\\t%.4f\\t%s\" % (c, f, self.codes[c]) \n",
    "                for c, f in sorted(self.freq.items(), key=lambda x: -x[1])\n",
    "            ])\n",
    "        return res\n",
    "            \n",
    "    def mean_length(self):\n",
    "        return np.mean([len(c) for c in self.codes.values()])\n",
    "    \n",
    "    def __getitem__(self, key):\n",
    "        return self.freq[key]"
   ]
  },
  {
   "cell_type": "code",
   "execution_count": 3,
   "metadata": {
    "collapsed": false
   },
   "outputs": [
    {
     "name": "stdout",
     "output_type": "stream",
     "text": [
      "Symbol\tP\tHuffman Code\n",
      "'b'\t0.4000\t0\n",
      "'c'\t0.2500\t111\n",
      "'d'\t0.2500\t10\n",
      "'a'\t0.1000\t110\n",
      "\n",
      "mean length = 2.25\n",
      "entropy = 1.86096404744\n"
     ]
    }
   ],
   "source": [
    "huff = Huffman({\n",
    "    'a': .1,\n",
    "    'b': .4,\n",
    "    'c': .25,\n",
    "    'd': .25\n",
    "})\n",
    "\n",
    "print(huff)\n",
    "\n",
    "print()\n",
    "print('mean length =', huff.mean_length())\n",
    "print('entropy =', huff.entropy())"
   ]
  },
  {
   "cell_type": "code",
   "execution_count": 4,
   "metadata": {
    "collapsed": false
   },
   "outputs": [
    {
     "name": "stdout",
     "output_type": "stream",
     "text": [
      "Symbol\tP\tHuffman Code\n",
      "' '\t0.1538\t101\n",
      "'n'\t0.1026\t010\n",
      "'i'\t0.0769\t1110\n",
      "'e'\t0.0769\t1100\n",
      "'a'\t0.0769\t1001\n",
      "'f'\t0.0769\t1101\n",
      "'m'\t0.0513\t0010\n",
      "'s'\t0.0513\t0111\n",
      "'h'\t0.0513\t0001\n",
      "'o'\t0.0513\t0011\n",
      "'u'\t0.0256\t10001\n",
      "'d'\t0.0256\t111111\n",
      "'t'\t0.0256\t10000\n",
      "'p'\t0.0256\t01100\n",
      "'x'\t0.0256\t11110\n",
      "'g'\t0.0256\t00000\n",
      "'r'\t0.0256\t01101\n",
      "'c'\t0.0256\t111110\n",
      "'l'\t0.0256\t00001\n",
      "\n",
      "mean length = 4.47368421053\n",
      "entropy = 3.98977850058\n"
     ]
    }
   ],
   "source": [
    "huff = Huffman(\"this is an example for huffman encoding\")\n",
    "\n",
    "print(huff)\n",
    "\n",
    "print()\n",
    "print('mean length =', huff.mean_length())\n",
    "print('entropy =', huff.entropy())"
   ]
  },
  {
   "cell_type": "markdown",
   "metadata": {},
   "source": [
    "# Lab 4"
   ]
  },
  {
   "cell_type": "code",
   "execution_count": 5,
   "metadata": {
    "collapsed": false
   },
   "outputs": [
    {
     "name": "stdout",
     "output_type": "stream",
     "text": [
      "Overwriting utils.py\n"
     ]
    }
   ],
   "source": [
    "%%writefile utils.py\n",
    "import collections\n",
    "\n",
    "trans = collections.defaultdict(str)\n",
    "\n",
    "for s in 'йцукенгшщзхфывапролджэячсмитьбю ':\n",
    "    trans[s] = s\n",
    "\n",
    "trans['ъ'] = 'ь'\n",
    "trans['ё'] = 'е'\n",
    "trans['\\n'] = ' '\n",
    "\n",
    "def transform(string):\n",
    "    return ''.join([trans[s] for s in string.lower()])\n"
   ]
  },
  {
   "cell_type": "code",
   "execution_count": 6,
   "metadata": {
    "collapsed": true
   },
   "outputs": [],
   "source": [
    "from utils import transform"
   ]
  },
  {
   "cell_type": "code",
   "execution_count": 7,
   "metadata": {
    "collapsed": false
   },
   "outputs": [],
   "source": [
    "rusfreq = {\n",
    "    ' ': .174,\n",
    "    'о': .090,\n",
    "    'е': .072,\n",
    "    'а': .062,\n",
    "    'и': .062,\n",
    "    'т': .053,\n",
    "    'н': .053,\n",
    "    'с': .045,\n",
    "    'р': .040,\n",
    "    'в': .038,\n",
    "    'л': .035,\n",
    "    'к': .028,\n",
    "    'м': .026,\n",
    "    'д': .025,\n",
    "    'п': .023,\n",
    "    'у': .021,\n",
    "    'я': .018,\n",
    "    'ы': .016,\n",
    "    'з': .016,\n",
    "    'ь': .014,\n",
    "    'б': .014,\n",
    "    'г': .013,\n",
    "    'ч': .012,\n",
    "    'й': .010,\n",
    "    'х': .009,\n",
    "    'ж': .007,\n",
    "    'ю': .006,\n",
    "    'ш': .006,\n",
    "    'ц': .004,\n",
    "    'щ': .003,\n",
    "    'э': .003,\n",
    "    'ф': .002,\n",
    "}\n",
    "\n",
    "assert len(rusfreq) == 32\n",
    "assert abs(sum(rusfreq.values()) - 1) < 1e-6, str(sum(rusfreq.values()))"
   ]
  },
  {
   "cell_type": "code",
   "execution_count": 8,
   "metadata": {
    "collapsed": false
   },
   "outputs": [],
   "source": [
    "with open('gore.txt') as f:\n",
    "    doc = ''.join([transform(line) for line in f])"
   ]
  },
  {
   "cell_type": "code",
   "execution_count": 9,
   "metadata": {
    "collapsed": false
   },
   "outputs": [
    {
     "data": {
      "text/plain": [
       "95336"
      ]
     },
     "execution_count": 9,
     "metadata": {},
     "output_type": "execute_result"
    }
   ],
   "source": [
    "len(doc)"
   ]
  },
  {
   "cell_type": "code",
   "execution_count": 10,
   "metadata": {
    "collapsed": false
   },
   "outputs": [
    {
     "name": "stdout",
     "output_type": "stream",
     "text": [
      "mean length: 4.40620542082739\n",
      "entropy: 4.35586052699\n"
     ]
    }
   ],
   "source": [
    "enc = Huffman(rusfreq)\n",
    "encoded = enc.encode(doc)\n",
    "print('mean length:', len(encoded) / len(doc))\n",
    "print('entropy:', enc.entropy())\n",
    "\n",
    "freq_enc = enc"
   ]
  },
  {
   "cell_type": "code",
   "execution_count": 11,
   "metadata": {
    "collapsed": false
   },
   "outputs": [
    {
     "name": "stdout",
     "output_type": "stream",
     "text": [
      "mean length: 4.367730972560208\n",
      "entropy: 4.33518726706\n"
     ]
    }
   ],
   "source": [
    "enc = Huffman(doc)\n",
    "encoded = enc.encode(doc)\n",
    "print('mean length:', len(encoded) / len(doc))\n",
    "print('entropy:', enc.entropy())\n",
    "\n",
    "count_enc = enc"
   ]
  },
  {
   "cell_type": "markdown",
   "metadata": {},
   "source": [
    "$\\mathrm{H}(p, q) = -\\sum_x p(x)\\, \\log q(x).$"
   ]
  },
  {
   "cell_type": "code",
   "execution_count": 12,
   "metadata": {
    "collapsed": false
   },
   "outputs": [
    {
     "name": "stdout",
     "output_type": "stream",
     "text": [
      "Cross entropy: 3.01650875963\n"
     ]
    }
   ],
   "source": [
    "cross_entropy = -sum(\n",
    "    count_enc[k] * np.log(freq_enc[k]) for k in count_enc.symbols\n",
    ")\n",
    "print(\"Cross entropy:\", cross_entropy)"
   ]
  },
  {
   "cell_type": "code",
   "execution_count": 13,
   "metadata": {
    "collapsed": false
   },
   "outputs": [],
   "source": [
    "pdoc = [doc[2*i:2*i+2] for i in range(len(doc) // 2)]"
   ]
  },
  {
   "cell_type": "code",
   "execution_count": 14,
   "metadata": {
    "collapsed": false
   },
   "outputs": [],
   "source": [
    "double_enc = Huffman(pdoc)\n",
    "\n",
    "encoded = double_enc.encode(pdoc)"
   ]
  },
  {
   "cell_type": "code",
   "execution_count": 15,
   "metadata": {
    "collapsed": false
   },
   "outputs": [
    {
     "name": "stdout",
     "output_type": "stream",
     "text": [
      "mean length: 7.945225308382982\n",
      "mean length (per symbol): 3.972612654191491\n",
      "entropy: 7.91870362066\n"
     ]
    }
   ],
   "source": [
    "print('mean length:', len(encoded) / len(pdoc))\n",
    "print('mean length (per symbol):', len(encoded) / len(doc))\n",
    "print('entropy:', double_enc.entropy())"
   ]
  }
 ],
 "metadata": {
  "kernelspec": {
   "display_name": "Python 3",
   "language": "python",
   "name": "python3"
  },
  "language_info": {
   "codemirror_mode": {
    "name": "ipython",
    "version": 3
   },
   "file_extension": ".py",
   "mimetype": "text/x-python",
   "name": "python",
   "nbconvert_exporter": "python",
   "pygments_lexer": "ipython3",
   "version": "3.5.1"
  }
 },
 "nbformat": 4,
 "nbformat_minor": 0
}
