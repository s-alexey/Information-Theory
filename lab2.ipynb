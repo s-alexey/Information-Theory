{
 "cells": [
  {
   "cell_type": "code",
   "execution_count": 1,
   "metadata": {
    "collapsed": false
   },
   "outputs": [],
   "source": [
    "import numpy as np\n",
    "import itertools\n",
    "from scipy.misc import comb\n",
    "from decimal import Decimal as D\n",
    "from decimal import getcontext\n",
    "import math \n",
    "getcontext().prec = 40"
   ]
  },
  {
   "cell_type": "markdown",
   "metadata": {},
   "source": [
    "$$H(p) = \\frac13 \\log_23 + \\frac23 \\log_21.5 $$"
   ]
  },
  {
   "cell_type": "code",
   "execution_count": 2,
   "metadata": {
    "collapsed": true
   },
   "outputs": [],
   "source": [
    "def log2(x):\n",
    "    return D(math.log2(x))\n",
    "\n",
    "def dot(x, y):\n",
    "    return sum(x_ * y_ for x_, y_ in zip(x, y))\n",
    "\n",
    "def entropy(probs):\n",
    "    log_probs = [D(log2(1 / p)) for p in probs]\n",
    "    return dot(probs, log_probs)"
   ]
  },
  {
   "cell_type": "code",
   "execution_count": 3,
   "metadata": {
    "collapsed": false
   },
   "outputs": [
    {
     "name": "stdout",
     "output_type": "stream",
     "text": [
      "entropy = 0.9183\n"
     ]
    }
   ],
   "source": [
    "n = 5\n",
    "# probs = [1/3, 2/3]\n",
    "probs = [D(1 / 3), D(2 / 3)]\n",
    "log_probs = [log2(p) for p in probs]\n",
    "\n",
    "H = entropy(probs)\n",
    "\n",
    "print(\"entropy = %.4f\" % H)"
   ]
  },
  {
   "cell_type": "code",
   "execution_count": 5,
   "metadata": {
    "collapsed": true
   },
   "outputs": [],
   "source": [
    "def outcomes(length):\n",
    "    \"\"\" All possible sequencies of 0 and 1 \n",
    "    \"\"\"\n",
    "    lenght = int(length)\n",
    "    return (\n",
    "        tuple(int(c) for c in format(i, 'b').zfill(length))\n",
    "        for i in range(2 ** lenght)\n",
    "    )\n",
    "\n",
    "def outcomes_lazy(length):\n",
    "    \"\"\" All possible combination with replacement of 0 and 1 \n",
    "    with number of possible permuntations\n",
    "    \"\"\"\n",
    "    length = int(length)\n",
    "    return map(lambda x: (x, comb(length, sum(x), exact=True)),\n",
    "        itertools.combinations_with_replacement((0, 1), length)\n",
    "    )\n",
    "\n",
    "def prob(outcome):\n",
    "    nones = sum(outcome)\n",
    "    n = len(outcome)\n",
    "    return probs[0] ** (n - nones) * probs[1] ** nones\n",
    "\n",
    "def log_prob(outcome):\n",
    "    nones = sum(outcome)\n",
    "    n = len(outcome)\n",
    "    return dot(log_probs, [n - nones, nones]) \n",
    "\n",
    "def n_entropy(n):\n",
    "    return -sum(\n",
    "        c * prob(outcome) * log_prob(outcome)\n",
    "        for outcome, c in outcomes_lazy(n)\n",
    "    )"
   ]
  },
  {
   "cell_type": "code",
   "execution_count": 6,
   "metadata": {
    "collapsed": false
   },
   "outputs": [],
   "source": [
    "# testing \n",
    "assert abs(n_entropy(1) - entropy(probs)) < 1e-10\n",
    "assert abs(n_entropy(10) - entropy([prob(outcome) for outcome in outcomes(10)])) < 1e-10\n",
    "\n",
    "for m in [2, 5, 10]:\n",
    "    outcomes_prob = sum(prob(outcome) for outcome in outcomes(m))\n",
    "    assert abs(outcomes_prob - 1) < 1e-10, outcomes_prob\n",
    "\n",
    "for m in [2, 5, 10, 100, 1000]:\n",
    "    outcomes_prob = sum(prob(outcome) * c for outcome, c in outcomes_lazy(m))\n",
    "    assert abs(outcomes_prob - 1) < 1e-10, outcomes_prob"
   ]
  },
  {
   "cell_type": "code",
   "execution_count": 7,
   "metadata": {
    "collapsed": false
   },
   "outputs": [
    {
     "name": "stdout",
     "output_type": "stream",
     "text": [
      "x\t\t| P\t | typical\n",
      "----------------------------------\n",
      "(0, 0, 0, 0, 0) | 0.0041 | False\n",
      "(0, 0, 0, 0, 1) | 0.0082 | False\n",
      "(0, 0, 0, 1, 0) | 0.0082 | False\n",
      "(0, 0, 0, 1, 1) | 0.0165 | False\n",
      "(0, 0, 1, 0, 0) | 0.0082 | False\n",
      "(0, 0, 1, 0, 1) | 0.0165 | False\n",
      "(0, 0, 1, 1, 0) | 0.0165 | False\n",
      "(0, 0, 1, 1, 1) | 0.0329 | True\n",
      "(0, 1, 0, 0, 0) | 0.0082 | False\n",
      "(0, 1, 0, 0, 1) | 0.0165 | False\n",
      "(0, 1, 0, 1, 0) | 0.0165 | False\n",
      "(0, 1, 0, 1, 1) | 0.0329 | True\n",
      "(0, 1, 1, 0, 0) | 0.0165 | False\n",
      "(0, 1, 1, 0, 1) | 0.0329 | True\n",
      "(0, 1, 1, 1, 0) | 0.0329 | True\n",
      "(0, 1, 1, 1, 1) | 0.0658 | True\n",
      "(1, 0, 0, 0, 0) | 0.0082 | False\n",
      "(1, 0, 0, 0, 1) | 0.0165 | False\n",
      "(1, 0, 0, 1, 0) | 0.0165 | False\n",
      "(1, 0, 0, 1, 1) | 0.0329 | True\n",
      "(1, 0, 1, 0, 0) | 0.0165 | False\n",
      "(1, 0, 1, 0, 1) | 0.0329 | True\n",
      "(1, 0, 1, 1, 0) | 0.0329 | True\n",
      "(1, 0, 1, 1, 1) | 0.0658 | True\n",
      "(1, 1, 0, 0, 0) | 0.0165 | False\n",
      "(1, 1, 0, 0, 1) | 0.0329 | True\n",
      "(1, 1, 0, 1, 0) | 0.0329 | True\n",
      "(1, 1, 0, 1, 1) | 0.0658 | True\n",
      "(1, 1, 1, 0, 0) | 0.0329 | True\n",
      "(1, 1, 1, 0, 1) | 0.0658 | True\n",
      "(1, 1, 1, 1, 0) | 0.0658 | True\n",
      "(1, 1, 1, 1, 1) | 0.1317 | False\n",
      "\n",
      "#typical = 15\n",
      "P(typical) = 0.65844\n"
     ]
    }
   ],
   "source": [
    "n = 5\n",
    "eps = D(0.138)\n",
    "\n",
    "min_p = 2 ** (-n * (H + eps))\n",
    "max_p = 2 ** (-n * (H - eps))\n",
    "\n",
    "typical_seq = []\n",
    "print(\"x\\t\\t| P\\t | typical\")\n",
    "print('-' * 34)\n",
    "for x in outcomes(n):\n",
    "    \n",
    "    prob_x = np.prod([probs[i] for i in x])\n",
    "    typical = min_p < prob_x < max_p\n",
    "    print(\"{} | {:.4f} | {}\".format(x, float(prob_x), typical))\n",
    "    \n",
    "    if typical:\n",
    "        typical_seq.append(prob_x)\n",
    "\n",
    "print()\n",
    "print(\"#typical =\", len(typical_seq))\n",
    "print('P(typical) = {:.5f}'.format(sum(typical_seq)))"
   ]
  },
  {
   "cell_type": "code",
   "execution_count": 8,
   "metadata": {
    "collapsed": false
   },
   "outputs": [
    {
     "data": {
      "text/plain": [
       "True"
      ]
     },
     "execution_count": 8,
     "metadata": {},
     "output_type": "execute_result"
    }
   ],
   "source": [
    "min_card = (1 - eps) * 2 ** (n * (H - eps))\n",
    "max_card = 2 ** (n * (H + eps))\n",
    "min_card < len(typical_seq) < max_card"
   ]
  },
  {
   "cell_type": "code",
   "execution_count": 9,
   "metadata": {
    "collapsed": false
   },
   "outputs": [
    {
     "name": "stdout",
     "output_type": "stream",
     "text": [
      "n\t eps\t fr\t\t prob\t\t 3?\n",
      "10\t 0.010\t 0.0000000000\t 0.0000000000\t False\n",
      "10\t 0.100\t 0.3222656250\t 0.4877305289\t True\n",
      "10\t 0.200\t 0.6123046875\t 0.8193872885\t True\n",
      "10\t 0.300\t 0.8271484375\t 0.9629968331\t True\n",
      "10\t 0.400\t 0.9453125000\t 0.9965960474\t True\n",
      "10\t 0.500\t 0.9892578125\t 0.9996443632\t True\n",
      "\n",
      "100\t 0.010\t 0.0006905766\t 0.1675243991\t False\n",
      "100\t 0.100\t 0.0966739247\t 0.9667359488\t True\n",
      "100\t 0.200\t 0.7579407932\t 0.9999800784\t True\n",
      "100\t 0.300\t 0.9966814397\t 0.9999999996\t True\n",
      "\n",
      "500\t 0.010\t 0.0000000000\t 0.3647288369\t True\n",
      "500\t 0.100\t 0.0013483886\t 0.9999977537\t True\n",
      "500\t 0.200\t 0.9300407372\t 1.0000000000\t True\n",
      "\n",
      "1000\t 0.010\t 0.0000000000\t 0.4975730959\t True\n",
      "1000\t 0.100\t 0.0000126719\t 1.0000000000\t True\n",
      "\n",
      "2000\t 0.010\t 0.0000000000\t 0.6572264751\t True\n",
      "2000\t 0.100\t 0.0000000011\t 1.0000000000\t True\n",
      "\n",
      "5000\t 0.010\t 0.0000000000\t 0.8663954138\t True\n",
      "5000\t 0.100\t 0.0000000000\t 1.0000000000\t True\n",
      "\n"
     ]
    }
   ],
   "source": [
    "n_range = [10, 100, 500, 1000, 2000, 5000]\n",
    "eps_range = [D(eps) for eps in [.01, .1, .2, .3, .4, .5]]\n",
    "\n",
    "result = np.zeros((len(n_range), len(eps_range), 2))\n",
    "\n",
    "print('n\\t eps\\t fr\\t\\t prob\\t\\t 3?')\n",
    "\n",
    "for i, n in enumerate(n_range):\n",
    "    \n",
    "    for j, eps in enumerate(eps_range):\n",
    "        typical_count = 0\n",
    "        typical_prob = 0\n",
    "        \n",
    "        min_p = 2 ** (-n * (H + eps))\n",
    "        max_p = 2 ** (-n * (H - eps))\n",
    "\n",
    "        for x, c in outcomes_lazy(n):\n",
    "            prob_x = prob(x)\n",
    "#             typical = abs(log2(float(1/prob_x)) / n - H) <= eps\n",
    "            typical = min_p < prob_x < max_p\n",
    "    \n",
    "            if typical:\n",
    "                typical_count += c\n",
    "                typical_prob += prob_x * c\n",
    "\n",
    "        freq = typical_count / 2**n\n",
    "        \n",
    "        min_card = (1 - eps) * 2 ** (n * (H - eps))\n",
    "        max_card = 2 ** (n * (H + eps))\n",
    "        card = min_card < typical_count < max_card\n",
    "#         card = np.log2(1 - eps) + n * (H - eps) <= np.log2(typical_count) <= n * np.log2(H + eps)\n",
    "        \n",
    "        print(\"{}\\t {:.3f}\\t {:.10f}\\t {:.10f}\\t {}\".format(n, eps, freq, typical_prob, card))\n",
    "        result[i][j] = [freq, typical_prob]\n",
    "        if typical_prob > 1 - 1e-8:\n",
    "            break\n",
    "        \n",
    "    print()\n"
   ]
  },
  {
   "cell_type": "code",
   "execution_count": 10,
   "metadata": {
    "collapsed": false
   },
   "outputs": [
    {
     "name": "stdout",
     "output_type": "stream",
     "text": [
      "4500\n"
     ]
    }
   ],
   "source": [
    "eps = D(.138)\n",
    "\n",
    "for n in range(100, 5000, 50):\n",
    "    typical_prob = 0\n",
    "    \n",
    "    for x, c in outcomes_lazy(n):\n",
    "        prob_x = prob(x)\n",
    "        typical = min_p < prob_x < max_p\n",
    "\n",
    "        if typical:\n",
    "            typical_prob += prob_x * c\n",
    "            \n",
    "    if typical_prob > 1 - eps:\n",
    "        print(n)\n",
    "        break"
   ]
  }
 ],
 "metadata": {
  "kernelspec": {
   "display_name": "Python 3",
   "language": "python",
   "name": "python3"
  },
  "language_info": {
   "codemirror_mode": {
    "name": "ipython",
    "version": 3
   },
   "file_extension": ".py",
   "mimetype": "text/x-python",
   "name": "python",
   "nbconvert_exporter": "python",
   "pygments_lexer": "ipython3",
   "version": "3.5.1"
  }
 },
 "nbformat": 4,
 "nbformat_minor": 0
}
