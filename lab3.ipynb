{
 "cells": [
  {
   "cell_type": "code",
   "execution_count": 1,
   "metadata": {
    "collapsed": true
   },
   "outputs": [],
   "source": [
    "import collections\n",
    "\n",
    "from decimal import Decimal\n",
    "from decimal import getcontext\n",
    "import math\n",
    "import itertools\n",
    "from functools import reduce\n",
    "\n",
    "import bisect\n",
    "import string\n",
    "\n",
    "from baseconv import BaseConverter\n",
    "import string\n",
    "import sys"
   ]
  },
  {
   "cell_type": "code",
   "execution_count": 2,
   "metadata": {
    "collapsed": true
   },
   "outputs": [],
   "source": [
    "def log2(f):\n",
    "    return Decimal(math.log2(f))\n",
    "\n",
    "def entropy(probs):\n",
    "    return -sum(p * log2(p) for p in probs)"
   ]
  },
  {
   "cell_type": "code",
   "execution_count": 3,
   "metadata": {
    "collapsed": true
   },
   "outputs": [],
   "source": [
    "ctx = getcontext()\n",
    "ctx.prec = 100"
   ]
  },
  {
   "cell_type": "code",
   "execution_count": 4,
   "metadata": {
    "collapsed": true
   },
   "outputs": [],
   "source": [
    "probs = {\n",
    "    'a': Decimal('.1'),\n",
    "    'b': Decimal('.4'), \n",
    "    'c': Decimal('.3'),\n",
    "    'd': Decimal('.2')\n",
    "}"
   ]
  },
  {
   "cell_type": "code",
   "execution_count": 5,
   "metadata": {
    "collapsed": false
   },
   "outputs": [],
   "source": [
    "class Tanstell:\n",
    "    def __init__(self, probs, n, d=2):\n",
    "        assert sum(probs.values()) == 1\n",
    "        assert 2 <= d <= 16\n",
    "        \n",
    "        self.probs = probs\n",
    "        self.D = d\n",
    "        self.base = BaseConverter(string.hexdigits[:d])\n",
    "        self.n = n\n",
    "        \n",
    "        L = len(probs)\n",
    "        q = (d**n - L) // (L - 1)\n",
    "\n",
    "        self.L = L\n",
    "        self.q = q\n",
    "\n",
    "        tanstell_set = collections.Counter({'': Decimal(1.)})\n",
    "        for i in range(q or 1):\n",
    "            k, v = tanstell_set.most_common(1)[0]\n",
    "            tanstell_set.pop(k)\n",
    "\n",
    "            for s, p in probs.items():\n",
    "                tanstell_set[k + s] = v * p\n",
    "        \n",
    "        codes = {}\n",
    "        icodes = {}\n",
    "        for i, k in enumerate(tanstell_set.keys()):\n",
    "            enc = self.base.encode(i)\n",
    "            enc = self.base.digits[0] * (n - len(enc)) + enc\n",
    "            codes[k] = enc\n",
    "            icodes[enc] = k\n",
    "        self.codes = codes \n",
    "        self.icodes = icodes\n",
    "    \n",
    "    def decode(self, seq):\n",
    "        assert not len(seq) % self.n\n",
    "        return ''.join([self.icodes[seq[i*self.n:(i+1)*self.n]] for i in range(len(seq) // self.n)])\n",
    "    \n",
    "    def encode(self, seq):\n",
    "        result = ''\n",
    "        for j in range(len(seq)):\n",
    "            for i in range(1, len(seq)+1):\n",
    "                if seq[:i] in self.codes:\n",
    "                    result += self.codes[seq[:i]]\n",
    "                    seq = seq[i:]\n",
    "            \n",
    "        return result\n",
    "        \n",
    "    def prob(self, seq):\n",
    "        return reduce(lambda x, y: x * y, [self.probs[c] for c in seq])\n",
    "    \n",
    "    @property\n",
    "    def K(self):\n",
    "        return sum(self.prob(word) * len(word) for word in self.codes.keys())\n",
    "    \n",
    "    @property\n",
    "    def W(self):\n",
    "        return self.n / self.K\n",
    "    \n",
    "    def entropy(self):\n",
    "        return -sum(self.prob(w) * Decimal(math.log(self.prob(w), self.D)) for w in self.codes.keys())\n",
    "        \n",
    "    def entropyU(self):\n",
    "        return -sum(p * Decimal(math.log(p, self.D)) for w, p in self.probs.items())"
   ]
  },
  {
   "cell_type": "code",
   "execution_count": 6,
   "metadata": {
    "collapsed": false
   },
   "outputs": [
    {
     "name": "stdout",
     "output_type": "stream",
     "text": [
      "7.4914331320 0.6674290368610874760992260299067166525167350315741962628786900049714012450989063970730774187466911505\n"
     ]
    }
   ],
   "source": [
    "t = Tanstell(probs, 5, 7)\n",
    "\n",
    "print(t.K, t.W)\n",
    "\n",
    "assert t.W > t.entropyU()"
   ]
  },
  {
   "cell_type": "code",
   "execution_count": 7,
   "metadata": {
    "collapsed": false
   },
   "outputs": [
    {
     "name": "stdout",
     "output_type": "stream",
     "text": [
      "5 5"
     ]
    }
   ],
   "source": [
    "lengths = []\n",
    "sym_probs = []\n",
    "\n",
    "for n, d in [(4, 2), (4, 3), (4, 2), (5, 5)]:\n",
    "    t = Tanstell(probs, n, d)\n",
    "    sys.stdout.write(\"\\r{} {}\".format(n, d))\n",
    "    for i in itertools.product(probs.keys(), repeat=8):\n",
    "        symbol = ''.join(i)\n",
    "        encoded = t.encode(symbol)\n",
    "        lengths.append(len(encoded))\n",
    "        sym_probs.append(t.prob(symbol))\n",
    "        # \n",
    "        assert t.decode(encoded) in symbol, \"{}, {}, {}\".format(symbol, t.decode(encoded), encoded)\n"
   ]
  },
  {
   "cell_type": "code",
   "execution_count": null,
   "metadata": {
    "collapsed": true
   },
   "outputs": [],
   "source": []
  },
  {
   "cell_type": "code",
   "execution_count": null,
   "metadata": {
    "collapsed": true
   },
   "outputs": [],
   "source": []
  },
  {
   "cell_type": "code",
   "execution_count": null,
   "metadata": {
    "collapsed": true
   },
   "outputs": [],
   "source": []
  },
  {
   "cell_type": "code",
   "execution_count": null,
   "metadata": {
    "collapsed": true
   },
   "outputs": [],
   "source": []
  },
  {
   "cell_type": "code",
   "execution_count": null,
   "metadata": {
    "collapsed": true
   },
   "outputs": [],
   "source": []
  },
  {
   "cell_type": "code",
   "execution_count": 8,
   "metadata": {
    "collapsed": false
   },
   "outputs": [],
   "source": [
    "class Geometric:\n",
    "    def __init__(self, probs, d=2):\n",
    "        assert sum(probs.values()) == 1\n",
    "        self.probs = probs\n",
    "\n",
    "        self.offsets = {}\n",
    "        self.symbols = []\n",
    "        self.__offs = []\n",
    "        \n",
    "        curr = Decimal(0)\n",
    "        for c, p in probs.items():\n",
    "            self.offsets[c] = curr\n",
    "            \n",
    "            self.symbols.append(c)\n",
    "            self.__offs.append(curr)\n",
    "            \n",
    "            curr += p\n",
    "                \n",
    "    def get_interval(self, seq):\n",
    "        left = Decimal(0)\n",
    "        width = Decimal(1)\n",
    "        \n",
    "        for c in seq:\n",
    "            left += self.offsets[c] * width\n",
    "            width *= self.probs[c]\n",
    "        \n",
    "        return left, left+width, width\n",
    "    \n",
    "    def prob(self, seq):\n",
    "        return reduce(lambda x, y: x * y, [self.probs[c] for c in seq])\n",
    "    \n",
    "    def encode(self, seq):\n",
    "        left, right, width = self.get_interval(seq)\n",
    "        \n",
    "        n = math.ceil(log2(1 / width))\n",
    "    \n",
    "        pointer = Decimal(0)\n",
    "        res = ''\n",
    "\n",
    "        for i in range(1, n+1):\n",
    "            if pointer + Decimal(2) ** -i < right:\n",
    "                pointer += Decimal(2) ** -i\n",
    "                res += '1'\n",
    "            else:\n",
    "                res += '0'\n",
    "\n",
    "        return res\n",
    "    \n",
    "    def decode(self, encoded):\n",
    "        width = Decimal(2) ** -len(encoded)\n",
    "\n",
    "        left = Decimal(int(encoded, 2)) / Decimal(2 ** len(encoded))\n",
    "        right = left + width\n",
    "\n",
    "        res = ''\n",
    "        offset = left\n",
    "        # why there 2 * w?\n",
    "        while 2 * width < 1:\n",
    "            ind = bisect.bisect_right(self.__offs, offset) - 1\n",
    "            sym = self.symbols[ind]\n",
    "            offset = (offset - self.offsets[sym]) / self.probs[sym]\n",
    "            width /= self.probs[sym]\n",
    "            res += sym\n",
    "        \n",
    "        return res"
   ]
  },
  {
   "cell_type": "code",
   "execution_count": 9,
   "metadata": {
    "collapsed": false
   },
   "outputs": [],
   "source": [
    "t = Geometric(probs)\n",
    "alphabet = 'abcd'\n",
    "\n",
    "for length in [1, 2, 5, 10, 15]:\n",
    "    for line in itertools.combinations_with_replacement(alphabet, length):\n",
    "        line = ''.join(line)\n",
    "        l, r, w = t.get_interval(line)\n",
    "\n",
    "        enc = t.encode(line)\n",
    "        val = Decimal(int(enc, 2)) / Decimal(2 ** len(enc))\n",
    "        assert l <= val < r, \"{} <= {} < {}\".format(l, val, r)\n",
    "        assert line == t.decode(enc), \"{} -> {}\".format(line, t.decode(enc))"
   ]
  },
  {
   "cell_type": "code",
   "execution_count": 10,
   "metadata": {
    "collapsed": false
   },
   "outputs": [],
   "source": [
    "probs = {\n",
    "    'a': Decimal('.1'),\n",
    "    'b': Decimal('.4'), \n",
    "    'c': Decimal('.25'),\n",
    "    'd': Decimal('.15'),\n",
    "    'e': Decimal('.1')\n",
    "}\n",
    "\n",
    "# probs = {\n",
    "#     'a': D('.03'),\n",
    "#     'c': D('.03'),\n",
    "#     'd': D('.03'),\n",
    "#     'e': D('.91')\n",
    "# }\n",
    "assert sum(probs.values()) == 1, sum(probs.values())"
   ]
  },
  {
   "cell_type": "code",
   "execution_count": 11,
   "metadata": {
    "collapsed": false
   },
   "outputs": [],
   "source": [
    "t = Geometric(probs)\n",
    "n = 7\n",
    "\n",
    "lengths = []\n",
    "sym_probs = []\n",
    "for i in itertools.product(probs.keys(), repeat=n):\n",
    "    symbol = ''.join(i)\n",
    "    lengths.append(len(t.encode(symbol)))\n",
    "    sym_probs.append(t.prob(symbol))\n"
   ]
  },
  {
   "cell_type": "code",
   "execution_count": null,
   "metadata": {
    "collapsed": true
   },
   "outputs": [],
   "source": []
  }
 ],
 "metadata": {
  "kernelspec": {
   "display_name": "Python 3",
   "language": "python",
   "name": "python3"
  },
  "language_info": {
   "codemirror_mode": {
    "name": "ipython",
    "version": 3
   },
   "file_extension": ".py",
   "mimetype": "text/x-python",
   "name": "python",
   "nbconvert_exporter": "python",
   "pygments_lexer": "ipython3",
   "version": "3.5.1"
  }
 },
 "nbformat": 4,
 "nbformat_minor": 0
}
